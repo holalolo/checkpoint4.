{
 "cells": [
  {
   "cell_type": "code",
   "execution_count": 42,
   "id": "3ff2259e",
   "metadata": {},
   "outputs": [
    {
     "name": "stdout",
     "output_type": "stream",
     "text": [
      "enter number1 : 12\n",
      "enter number2 : 23\n",
      "enter number3 : 34\n",
      "34\n"
     ]
    }
   ],
   "source": [
    "#exercice1\n",
    "a=input(\"enter number1 : \")\n",
    "b=input(\"enter number2 : \")\n",
    "c=input(\"enter number3 : \")\n",
    "def maximum(a ,b ,c):\n",
    "    if (a>b) and (a>c):\n",
    "        return(a)\n",
    "    elif (b>a) and (b>c):\n",
    "        return(b)\n",
    "    else:\n",
    "        return(c)\n",
    "print(maximum(a,b,c))    "
   ]
  },
  {
   "cell_type": "code",
   "execution_count": 2,
   "id": "65e7d9c8",
   "metadata": {},
   "outputs": [
    {
     "name": "stdout",
     "output_type": "stream",
     "text": [
      "saisir num12\n",
      "saisir num22\n"
     ]
    },
    {
     "data": {
      "text/plain": [
       "(4, 0)"
      ]
     },
     "execution_count": 2,
     "metadata": {},
     "output_type": "execute_result"
    }
   ],
   "source": [
    "#exercice2\n",
    "a=int(input(\"saisir num1\"))\n",
    "b=int(input(\"saisir num2\"))\n",
    "def function(a,b):\n",
    "    c1 =a+b\n",
    "    c2 =a-b\n",
    "    return c1,c2\n",
    "function(a,b)\n",
    "    \n",
    "    \n",
    "    \n"
   ]
  },
  {
   "cell_type": "code",
   "execution_count": 1,
   "id": "df22774a",
   "metadata": {},
   "outputs": [
    {
     "name": "stdout",
     "output_type": "stream",
     "text": [
      "384\n",
      "20\n"
     ]
    },
    {
     "data": {
      "text/plain": [
       "384"
      ]
     },
     "execution_count": 1,
     "metadata": {},
     "output_type": "execute_result"
    }
   ],
   "source": [
    "#exercice3\n",
    "a=[1,2,3,4,5,6,7,8,9]\n",
    "\n",
    "def sum(a):\n",
    "    r=0\n",
    "    for i in range(len(a)):\n",
    "        r+=a[i]\n",
    "    return r\n",
    "(sum(a))\n",
    "\n",
    "def mm(a):\n",
    "    re=1\n",
    "    for b in range(len(a)):\n",
    "        re*=a[b]\n",
    "    return re\n",
    "(mm(a))\n",
    "b=a[1::2]\n",
    "print(mm(b))\n",
    "c=a[::2]\n",
    "print(sum(b))\n",
    "384"
   ]
  },
  {
   "cell_type": "code",
   "execution_count": 4,
   "id": "702a7511",
   "metadata": {},
   "outputs": [
    {
     "name": "stdout",
     "output_type": "stream",
     "text": [
      "write your words: green-red-yellow-black-white\n",
      "black-green-red-white-yellow\n"
     ]
    }
   ],
   "source": [
    "#exercice4\n",
    "item=input(\"write your words: \")\n",
    "x=item.split('-')\n",
    "x.sort()\n",
    "print('-'.join(x))"
   ]
  },
  {
   "cell_type": "code",
   "execution_count": 10,
   "id": "cc28482d",
   "metadata": {},
   "outputs": [
    {
     "name": "stdout",
     "output_type": "stream",
     "text": [
      "Provide D: 100,150,180\n",
      "[18, 22, 24]\n"
     ]
    }
   ],
   "source": [
    "#exercice5\n",
    "from math import*\n",
    "numbers = input(\"Provide D: \")\n",
    "numbers = numbers.split(',')\n",
    "\n",
    "result_list = []\n",
    "for D in numbers:\n",
    "    Q = round(sqrt(2 * 50 * int(D) / 30))\n",
    "    result_list.append(Q)\n",
    "\n",
    "print(result_list)"
   ]
  },
  {
   "cell_type": "code",
   "execution_count": null,
   "id": "09ea0140",
   "metadata": {},
   "outputs": [],
   "source": []
  },
  {
   "cell_type": "code",
   "execution_count": null,
   "id": "3828b2d6",
   "metadata": {},
   "outputs": [],
   "source": []
  }
 ],
 "metadata": {
  "kernelspec": {
   "display_name": "Python 3",
   "language": "python",
   "name": "python3"
  },
  "language_info": {
   "codemirror_mode": {
    "name": "ipython",
    "version": 3
   },
   "file_extension": ".py",
   "mimetype": "text/x-python",
   "name": "python",
   "nbconvert_exporter": "python",
   "pygments_lexer": "ipython3",
   "version": "3.8.8"
  }
 },
 "nbformat": 4,
 "nbformat_minor": 5
}
